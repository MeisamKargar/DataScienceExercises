{
 "cells": [
  {
   "cell_type": "markdown",
   "id": "bd7327ad-9779-4247-a056-11477a95c5ab",
   "metadata": {},
   "source": [
    "# Data Science Tools and Ecosystem"
   ]
  },
  {
   "cell_type": "markdown",
   "id": "bb373c83-407e-4aa5-9b14-ec4e9339dddf",
   "metadata": {},
   "source": [
    "In this notebook, Data Science Tools and Ecosystem are summarized."
   ]
  },
  {
   "cell_type": "markdown",
   "id": "78da5a11-cad7-4e0d-a4c3-58cffb932717",
   "metadata": {},
   "source": [
    "Some of the popular languages that Data Scientists use are:\n",
    "1. Python\n",
    "2. Java\n",
    "3. R\n",
    "4. Scala"
   ]
  },
  {
   "cell_type": "markdown",
   "id": "9a9499c4-5fa3-4a87-b430-3f1adb72e296",
   "metadata": {},
   "source": [
    "**List popular languages for Data Science:**\n",
    "- python\n",
    "- R\n",
    "- Julia\n",
    "- Java"
   ]
  },
  {
   "cell_type": "markdown",
   "id": "c417a8e6-4f91-4f75-98b9-b7d0d82c1048",
   "metadata": {},
   "source": [
    "Some of the commonly used libraries used by Data Scientists include:\n",
    "1. sklearn\n",
    "2. numpy\n",
    "3. pandas\n",
    "4. matplotlib\n",
    "5. seaborn\r\n"
   ]
  },
  {
   "cell_type": "markdown",
   "id": "679fe202-9866-4a69-80bf-f20e1b5d83dd",
   "metadata": {},
   "source": [
    "\n",
    "|   |Data Science Tools|   |\n",
    "|---|------------------|---|\n",
    "|vs-code|jupyter notebook| jupyterlab|\n"
   ]
  },
  {
   "cell_type": "markdown",
   "id": "002ad3a7-b653-4bc7-964b-f3e6d258a289",
   "metadata": {},
   "source": [
    "### Below are a few examples of evaluating arithmetic expressions in Python.\r",
    "- 3+4\n",
    "- 5*8\n",
    "- 5/2\n",
    "- 10-5\n"
   ]
  },
  {
   "cell_type": "code",
   "execution_count": 1,
   "id": "bb2bcde0-6171-43f2-afe5-9a09234f2f6b",
   "metadata": {},
   "outputs": [
    {
     "data": {
      "text/plain": [
       "17"
      ]
     },
     "execution_count": 1,
     "metadata": {},
     "output_type": "execute_result"
    }
   ],
   "source": [
    "# This a simple arithmetic expression to mutiply then add integers\n",
    "(3*4)+5"
   ]
  },
  {
   "cell_type": "code",
   "execution_count": 5,
   "id": "c91c2ab6-f9fe-40ef-a0cb-f4f2d87349b4",
   "metadata": {},
   "outputs": [
    {
     "name": "stdout",
     "output_type": "stream",
     "text": [
      "3.3333333333333335\n"
     ]
    }
   ],
   "source": [
    "# This will convert 200 minutes to hours by diving by 60\n",
    "Hour = 200 / 60\n",
    "print(float(Hour))"
   ]
  },
  {
   "cell_type": "markdown",
   "id": "d0ae45a0-ab9f-4394-8af8-d4002a76794f",
   "metadata": {},
   "source": [
    "## Author\n",
    "*Meisam Kargar*"
   ]
  },
  {
   "cell_type": "code",
   "execution_count": null,
   "id": "ddb2814c-12b8-437b-96b1-478d8a035cf7",
   "metadata": {},
   "outputs": [],
   "source": []
  }
 ],
 "metadata": {
  "kernelspec": {
   "display_name": "Python 3 (ipykernel)",
   "language": "python",
   "name": "python3"
  },
  "language_info": {
   "codemirror_mode": {
    "name": "ipython",
    "version": 3
   },
   "file_extension": ".py",
   "mimetype": "text/x-python",
   "name": "python",
   "nbconvert_exporter": "python",
   "pygments_lexer": "ipython3",
   "version": "3.11.5"
  }
 },
 "nbformat": 4,
 "nbformat_minor": 5
}
